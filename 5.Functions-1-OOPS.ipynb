{
 "cells": [
  {
   "cell_type": "code",
   "execution_count": null,
   "id": "e42bc846",
   "metadata": {},
   "outputs": [],
   "source": [
    "#Functions"
   ]
  },
  {
   "cell_type": "code",
   "execution_count": null,
   "id": "394d212f",
   "metadata": {},
   "outputs": [],
   "source": [
    "def ageCategory():\n",
    "    category=\"\";\n",
    "    if(age<18):\n",
    "       category=\"Children\"\n",
    "    elif(age<35):\n",
    "       category=\"Adult\"\n",
    "    elif(age<59):\n",
    "        category=\"Citizen\"\n",
    "    else:\n",
    "        category=\"Senior Citizen\"\n",
    "    return category;   "
   ]
  },
  {
   "cell_type": "code",
   "execution_count": null,
   "id": "71f67210",
   "metadata": {},
   "outputs": [],
   "source": [
    "age = int(input(\"Enter the age:\"))\n",
    "agecat = ageCategory()\n",
    "print(agecat)"
   ]
  },
  {
   "cell_type": "code",
   "execution_count": null,
   "id": "4897f13f",
   "metadata": {},
   "outputs": [],
   "source": [
    "#Without return statement"
   ]
  },
  {
   "cell_type": "code",
   "execution_count": null,
   "id": "67ae2164",
   "metadata": {},
   "outputs": [],
   "source": [
    "def ageCategoryNor():\n",
    "    category=\"\";\n",
    "    if(age<18):\n",
    "       category=\"Children\"\n",
    "    elif(age<35):\n",
    "       category=\"Adult\"\n",
    "    elif(age<59):\n",
    "        category=\"Citizen\"\n",
    "    else:\n",
    "        category=\"Senior Citizen\""
   ]
  },
  {
   "cell_type": "code",
   "execution_count": null,
   "id": "1fd6debd",
   "metadata": {},
   "outputs": [],
   "source": [
    "age = int(input(\"Enter the age:\"))\n",
    "agecat = ageCategoryNor()\n",
    "print(agecat)"
   ]
  },
  {
   "cell_type": "code",
   "execution_count": 5,
   "id": "959886ab",
   "metadata": {},
   "outputs": [],
   "source": [
    "def oddEven():\n",
    "    num=int(input(\"Enter the number:\"))\n",
    "    if((num%2) == 1):\n",
    "        print(\"odd Number\")\n",
    "        message = \"odd Number\"\n",
    "    else:\n",
    "        print(\"Even number\")\n",
    "        message = \"Even number\"\n",
    "    return message;     \n"
   ]
  },
  {
   "cell_type": "code",
   "execution_count": 6,
   "id": "b946e6b2",
   "metadata": {},
   "outputs": [
    {
     "name": "stdout",
     "output_type": "stream",
     "text": [
      "Enter the number12\n",
      "Even number\n",
      "Given number is even number\n"
     ]
    }
   ],
   "source": [
    "message = oddEven();\n",
    "if(message == \"Even number\"):\n",
    "     print(\"Given number is even number\")\n",
    "else:\n",
    "    print(\"Given number is odd number\")"
   ]
  },
  {
   "cell_type": "code",
   "execution_count": 7,
   "id": "0a941c79",
   "metadata": {},
   "outputs": [],
   "source": [
    "def BMI():\n",
    "    # Input weight in kilograms and height in meters\n",
    "    weight_kg = float(input(\"Enter your weight in kilograms: \"))\n",
    "    height_m = float(input(\"Enter your height in meters: \"))\n",
    "    bmi = weight_kg / (height_m ** 2)\n",
    "    if bmi < 18.5:\n",
    "        print(\"You are underweight.\")\n",
    "        message = \"You are underweight.\"\n",
    "    elif 18.5 <= bmi < 24.9:\n",
    "        print(\"You have a normal weight.\")\n",
    "        message = \"You have a normal weight.\"\n",
    "    elif 25 <= bmi < 29.9:\n",
    "        print(\"You are overweight.\")\n",
    "        message = \"You are overweight.\"\n",
    "    else:\n",
    "        print(\"You are obese.\")\n",
    "        message = \"You are obese.\""
   ]
  },
  {
   "cell_type": "code",
   "execution_count": 8,
   "id": "6784403e",
   "metadata": {},
   "outputs": [
    {
     "name": "stdout",
     "output_type": "stream",
     "text": [
      "Enter your weight in kilograms: 104\n",
      "Enter your height in meters: 163\n",
      "You are underweight.\n"
     ]
    }
   ],
   "source": [
    "BMI()"
   ]
  },
  {
   "cell_type": "code",
   "execution_count": 10,
   "id": "da1f0df0",
   "metadata": {},
   "outputs": [],
   "source": [
    "def addition(num1, num2):\n",
    "    add = num1 + num2\n",
    "    return add"
   ]
  },
  {
   "cell_type": "code",
   "execution_count": 11,
   "id": "d6b5618c",
   "metadata": {},
   "outputs": [
    {
     "data": {
      "text/plain": [
       "9"
      ]
     },
     "execution_count": 11,
     "metadata": {},
     "output_type": "execute_result"
    }
   ],
   "source": [
    "addition(5, 4)"
   ]
  },
  {
   "cell_type": "code",
   "execution_count": 12,
   "id": "212dfe2c",
   "metadata": {},
   "outputs": [],
   "source": [
    "def subtraction(num1, num2):\n",
    "    sub = num1 - num2\n",
    "    return sub"
   ]
  },
  {
   "cell_type": "code",
   "execution_count": 13,
   "id": "c937169a",
   "metadata": {},
   "outputs": [
    {
     "data": {
      "text/plain": [
       "5"
      ]
     },
     "execution_count": 13,
     "metadata": {},
     "output_type": "execute_result"
    }
   ],
   "source": [
    "subtraction(10, 5)"
   ]
  },
  {
   "cell_type": "code",
   "execution_count": null,
   "id": "b36ff7fa",
   "metadata": {},
   "outputs": [],
   "source": []
  }
 ],
 "metadata": {
  "kernelspec": {
   "display_name": "Python 3 (ipykernel)",
   "language": "python",
   "name": "python3"
  },
  "language_info": {
   "codemirror_mode": {
    "name": "ipython",
    "version": 3
   },
   "file_extension": ".py",
   "mimetype": "text/x-python",
   "name": "python",
   "nbconvert_exporter": "python",
   "pygments_lexer": "ipython3",
   "version": "3.10.9"
  }
 },
 "nbformat": 4,
 "nbformat_minor": 5
}
