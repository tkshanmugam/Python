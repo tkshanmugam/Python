{
 "cells": [
  {
   "cell_type": "code",
   "execution_count": null,
   "id": "06445876",
   "metadata": {},
   "outputs": [],
   "source": [
    "#print Statement"
   ]
  },
  {
   "cell_type": "code",
   "execution_count": 1,
   "id": "cc6bb4b9",
   "metadata": {},
   "outputs": [
    {
     "name": "stdout",
     "output_type": "stream",
     "text": [
      "HOPE AI\n"
     ]
    }
   ],
   "source": [
    "print(\"HOPE AI\")"
   ]
  },
  {
   "cell_type": "code",
   "execution_count": null,
   "id": "a35f686a",
   "metadata": {},
   "outputs": [],
   "source": [
    "## Buy input "
   ]
  },
  {
   "cell_type": "code",
   "execution_count": 2,
   "id": "55673cf1",
   "metadata": {},
   "outputs": [
    {
     "name": "stdout",
     "output_type": "stream",
     "text": [
      "Enter your institute name? :Hope AI\n",
      "Enter your institute name? : Hope AI\n"
     ]
    }
   ],
   "source": [
    "instituteName = input(\"Enter your institute name? :\")\n",
    "print(\"Enter your institute name? :\",instituteName)"
   ]
  },
  {
   "cell_type": "code",
   "execution_count": 4,
   "id": "6afd6858",
   "metadata": {},
   "outputs": [
    {
     "name": "stdout",
     "output_type": "stream",
     "text": [
      "Enter the name:k.S.Thilakkumar\n",
      "Enter the age:34\n",
      "Enter your school:S.S.V Matric Hr Sec School\n",
      "Enter your degree:mcsa\n",
      "Enter the name: k.S.Thilakkumar\n",
      "Enter the age: 34\n",
      "Enter your school: S.S.V Matric Hr Sec School\n",
      "Enter your degree: mcsa\n"
     ]
    }
   ],
   "source": [
    "name = input(\"Enter the name:\")\n",
    "age = input(\"Enter the age:\")\n",
    "school = input(\"Enter your school:\")\n",
    "degree= input(\"Enter your degree:\")\n",
    "print(\"Name:\",name)\n",
    "print(\"Age:\",age)\n",
    "print(\"School:\",school)\n",
    "print(\"Degree:\",degree)"
   ]
  },
  {
   "cell_type": "code",
   "execution_count": null,
   "id": "4ef76900",
   "metadata": {},
   "outputs": [],
   "source": [
    "#Addition of two numbers"
   ]
  },
  {
   "cell_type": "code",
   "execution_count": 5,
   "id": "6ddcbf6a",
   "metadata": {},
   "outputs": [
    {
     "name": "stdout",
     "output_type": "stream",
     "text": [
      "Enter the Number 1:45\n",
      "Enter the Number 2:63\n",
      "Number 1: 45\n",
      "Number 2: 63\n",
      "Addition: 108\n"
     ]
    }
   ],
   "source": [
    "number1 = int(input(\"Enter the Number 1:\"))\n",
    "number2 = int(input(\"Enter the Number 2:\"))\n",
    "add = number1 + number2\n",
    "print(\"Number 1:\",number1)\n",
    "print(\"Number 2:\",number2)\n",
    "print(\"Addition:\",add)"
   ]
  },
  {
   "cell_type": "code",
   "execution_count": null,
   "id": "785da394",
   "metadata": {},
   "outputs": [],
   "source": [
    "#Addition"
   ]
  },
  {
   "cell_type": "code",
   "execution_count": 6,
   "id": "31fcf29d",
   "metadata": {},
   "outputs": [
    {
     "name": "stdout",
     "output_type": "stream",
     "text": [
      "Enter the Number 1:12\n",
      "Enter The Number 2:15\n",
      "The sum of  12 and 15  is : 27\n"
     ]
    }
   ],
   "source": [
    "number1 = int(input(\"Enter the Number 1:\"))\n",
    "number2 = int(input(\"Enter The Number 2:\"))\n",
    "add = number1 + number2\n",
    "print(\"The sum of \",number1,\"and\",number2,\" is :\",add)"
   ]
  },
  {
   "cell_type": "code",
   "execution_count": null,
   "id": "160c1ea2",
   "metadata": {},
   "outputs": [],
   "source": [
    "#Subtraction"
   ]
  },
  {
   "cell_type": "code",
   "execution_count": 8,
   "id": "ce4a0594",
   "metadata": {
    "scrolled": true
   },
   "outputs": [
    {
     "name": "stdout",
     "output_type": "stream",
     "text": [
      "Enter the Number 1:45\n",
      "Enter The Number 2:52\n",
      "The subtraction of  45 and 52  is : -7\n"
     ]
    }
   ],
   "source": [
    "number1 = int(input(\"Enter the Number 1:\"))\n",
    "number2 = int(input(\"Enter The Number 2:\"))\n",
    "sub = number1 - number2\n",
    "print(\"The subtraction of \",number1,\"and\",number2,\" is :\",sub)"
   ]
  },
  {
   "cell_type": "code",
   "execution_count": null,
   "id": "e8abf625",
   "metadata": {},
   "outputs": [],
   "source": [
    "#Multiplication"
   ]
  },
  {
   "cell_type": "code",
   "execution_count": 9,
   "id": "3f7fbae7",
   "metadata": {},
   "outputs": [
    {
     "name": "stdout",
     "output_type": "stream",
     "text": [
      "Enter the Number 1:10\n",
      "Enter The Number 2:20\n",
      "The multication of  10 and 20  is : 200\n"
     ]
    }
   ],
   "source": [
    "number1 = int(input(\"Enter the Number 1:\"))\n",
    "number2 = int(input(\"Enter The Number 2:\"))\n",
    "mul = number1 * number2\n",
    "print(\"The multication of \",number1,\"and\",number2,\" is :\",mul)"
   ]
  },
  {
   "cell_type": "code",
   "execution_count": null,
   "id": "db152779",
   "metadata": {},
   "outputs": [],
   "source": [
    "#Division"
   ]
  },
  {
   "cell_type": "code",
   "execution_count": 10,
   "id": "aefb1a91",
   "metadata": {},
   "outputs": [
    {
     "name": "stdout",
     "output_type": "stream",
     "text": [
      "Enter the Number 1:45\n",
      "Enter The Number 2:5\n",
      "The division of  45 and 5  is : 9.0\n"
     ]
    }
   ],
   "source": [
    "number1 = int(input(\"Enter the Number 1:\"))\n",
    "number2 = int(input(\"Enter The Number 2:\"))\n",
    "div = number1 / number2\n",
    "print(\"The division of \",number1,\"and\",number2,\" is :\",div)"
   ]
  },
  {
   "cell_type": "code",
   "execution_count": null,
   "id": "f18acd31",
   "metadata": {},
   "outputs": [],
   "source": [
    "#Floor division"
   ]
  },
  {
   "cell_type": "code",
   "execution_count": 11,
   "id": "f30b5620",
   "metadata": {},
   "outputs": [
    {
     "name": "stdout",
     "output_type": "stream",
     "text": [
      "Enter the first number: 45\n",
      "Enter the second number: 12\n",
      "The floor division of 45.0 and 12.0 is: 3.0\n"
     ]
    }
   ],
   "source": [
    "num1 = float(input(\"Enter the first number: \"))\n",
    "num2 = float(input(\"Enter the second number: \"))\n",
    "result = num1 // num2\n",
    "print(f\"The floor division of {num1} and {num2} is: {result}\")"
   ]
  },
  {
   "cell_type": "code",
   "execution_count": null,
   "id": "c5c350f0",
   "metadata": {},
   "outputs": [],
   "source": [
    "#Modulo"
   ]
  },
  {
   "cell_type": "code",
   "execution_count": 12,
   "id": "6b2fe08e",
   "metadata": {},
   "outputs": [
    {
     "name": "stdout",
     "output_type": "stream",
     "text": [
      "Enter the dividend: 89\n",
      "Enter the divisor: 56\n",
      "The remainder when 89 is divided by 56 is 33\n"
     ]
    }
   ],
   "source": [
    "dividend = int(input(\"Enter the dividend: \"))\n",
    "divisor = int(input(\"Enter the divisor: \"))\n",
    "remainder = dividend % divisor\n",
    "print(f\"The remainder when {dividend} is divided by {divisor} is {remainder}\")\n"
   ]
  },
  {
   "cell_type": "code",
   "execution_count": null,
   "id": "49321a3c",
   "metadata": {},
   "outputs": [],
   "source": [
    "#Power"
   ]
  },
  {
   "cell_type": "code",
   "execution_count": 13,
   "id": "913ad0f0",
   "metadata": {},
   "outputs": [
    {
     "name": "stdout",
     "output_type": "stream",
     "text": [
      "Enter the base number: 4\n",
      "Enter the exponent: 4\n",
      "4.0 raised to the power of 4 is equal to 256.0 (using ** operator)\n",
      "4.0 raised to the power of 4 is equal to 256.0 (using pow() function)\n"
     ]
    }
   ],
   "source": [
    "def power_with_operator(base, exponent):\n",
    "    result = base ** exponent\n",
    "    return result\n",
    "\n",
    "def power_with_pow(base, exponent):\n",
    "    result = pow(base, exponent)\n",
    "    return result\n",
    "\n",
    "base = float(input(\"Enter the base number: \"))\n",
    "exponent = int(input(\"Enter the exponent: \"))\n",
    "result_operator = power_with_operator(base, exponent)\n",
    "print(f\"{base} raised to the power of {exponent} is equal to {result_operator} (using ** operator)\")\n",
    "result_pow = power_with_pow(base, exponent)\n",
    "print(f\"{base} raised to the power of {exponent} is equal to {result_pow} (using pow() function)\")"
   ]
  },
  {
   "cell_type": "code",
   "execution_count": null,
   "id": "9c01909f",
   "metadata": {},
   "outputs": [],
   "source": []
  }
 ],
 "metadata": {
  "kernelspec": {
   "display_name": "Python 3 (ipykernel)",
   "language": "python",
   "name": "python3"
  },
  "language_info": {
   "codemirror_mode": {
    "name": "ipython",
    "version": 3
   },
   "file_extension": ".py",
   "mimetype": "text/x-python",
   "name": "python",
   "nbconvert_exporter": "python",
   "pygments_lexer": "ipython3",
   "version": "3.10.9"
  }
 },
 "nbformat": 4,
 "nbformat_minor": 5
}
