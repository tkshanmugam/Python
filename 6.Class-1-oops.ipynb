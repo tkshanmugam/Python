{
 "cells": [
  {
   "cell_type": "code",
   "execution_count": null,
   "id": "45f5bb04",
   "metadata": {},
   "outputs": [],
   "source": [
    "# Class"
   ]
  },
  {
   "cell_type": "code",
   "execution_count": 1,
   "id": "2abf27c1",
   "metadata": {},
   "outputs": [],
   "source": [
    "class multipleFuntion():\n",
    "    def oddEven():\n",
    "        num=int(input(\"Enter the number:\"))\n",
    "        if((num%2) == 1):\n",
    "            print(\"odd Number\")\n",
    "            message = \"odd Number\"\n",
    "        else:\n",
    "            print(\"Even number\")\n",
    "            message = \"Even number\"\n",
    "        return message; \n",
    "    def BMI():\n",
    "        # Input weight in kilograms and height in meters\n",
    "        weight_kg = float(input(\"Enter your weight in kilograms: \"))\n",
    "        height_m = float(input(\"Enter your height in meters: \"))\n",
    "        bmi = weight_kg / (height_m ** 2)\n",
    "        if bmi < 18.5:\n",
    "            print(\"You are underweight.\")\n",
    "            message = \"You are underweight.\"\n",
    "        elif 18.5 <= bmi < 24.9:\n",
    "            print(\"You have a normal weight.\")\n",
    "            message = \"You have a normal weight.\"\n",
    "        elif 25 <= bmi < 29.9:\n",
    "            print(\"You are overweight.\")\n",
    "            message = \"You are overweight.\"\n",
    "        else:\n",
    "            print(\"You are obese.\")\n",
    "            message = \"You are obese.\""
   ]
  },
  {
   "cell_type": "code",
   "execution_count": 2,
   "id": "a00abdf5",
   "metadata": {},
   "outputs": [
    {
     "name": "stdout",
     "output_type": "stream",
     "text": [
      "Enter the number:4\n",
      "Even number\n"
     ]
    },
    {
     "data": {
      "text/plain": [
       "'Even number'"
      ]
     },
     "execution_count": 2,
     "metadata": {},
     "output_type": "execute_result"
    }
   ],
   "source": [
    "multipleFuntion.oddEven()"
   ]
  },
  {
   "cell_type": "code",
   "execution_count": 3,
   "id": "05d2faa0",
   "metadata": {},
   "outputs": [
    {
     "name": "stdout",
     "output_type": "stream",
     "text": [
      "Enter your weight in kilograms: 104\n",
      "Enter your height in meters: 175\n",
      "You are underweight.\n"
     ]
    }
   ],
   "source": [
    "multipleFuntion.BMI()"
   ]
  },
  {
   "cell_type": "code",
   "execution_count": null,
   "id": "fd238f4e",
   "metadata": {},
   "outputs": [],
   "source": []
  }
 ],
 "metadata": {
  "kernelspec": {
   "display_name": "Python 3 (ipykernel)",
   "language": "python",
   "name": "python3"
  },
  "language_info": {
   "codemirror_mode": {
    "name": "ipython",
    "version": 3
   },
   "file_extension": ".py",
   "mimetype": "text/x-python",
   "name": "python",
   "nbconvert_exporter": "python",
   "pygments_lexer": "ipython3",
   "version": "3.10.9"
  }
 },
 "nbformat": 4,
 "nbformat_minor": 5
}
