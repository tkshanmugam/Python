{
 "cells": [
  {
   "cell_type": "code",
   "execution_count": null,
   "id": "4bfca83e",
   "metadata": {},
   "outputs": [],
   "source": [
    "a = 10\n",
    "b= 20\n",
    "c= a +b\n",
    "print(c)"
   ]
  },
  {
   "cell_type": "code",
   "execution_count": null,
   "id": "12b8f763",
   "metadata": {},
   "outputs": [],
   "source": [
    "a= 10\n",
    "b=10\n",
    "c = a + b\n",
    "print(\"Result of a+b is :\",c)"
   ]
  },
  {
   "cell_type": "code",
   "execution_count": 1,
   "id": "0d1f83bd",
   "metadata": {},
   "outputs": [
    {
     "name": "stdout",
     "output_type": "stream",
     "text": [
      "Enter the value for a:10\n",
      "Enter the value for b:10\n",
      "Result of a+b is 1010\n"
     ]
    }
   ],
   "source": [
    "a = input(\"Enter the value for a:\")\n",
    "b= input(\"Enter the value for b:\")\n",
    "c= a + b\n",
    "print(\"Result of a+b is\",c)"
   ]
  },
  {
   "cell_type": "code",
   "execution_count": 2,
   "id": "3e5b4e7f",
   "metadata": {},
   "outputs": [
    {
     "name": "stdout",
     "output_type": "stream",
     "text": [
      "Enter the value for a:10\n",
      "Enter the value for b:10\n",
      "Result of a+b is 20\n"
     ]
    }
   ],
   "source": [
    "a = int(input(\"Enter the value for a:\"))\n",
    "b= int(input(\"Enter the value for b:\"))\n",
    "c= a + b\n",
    "print(\"Result of a+b is\",c)"
   ]
  },
  {
   "cell_type": "code",
   "execution_count": 4,
   "id": "5bd573f6",
   "metadata": {},
   "outputs": [
    {
     "name": "stdout",
     "output_type": "stream",
     "text": [
      "Enter the value for First Number :10\n",
      "Enter the value for second Number :10\n",
      "The addition of two numbers\n",
      "The Number1 : 10\n",
      "The Number2 : 10\n",
      "The Answer  : 20\n"
     ]
    }
   ],
   "source": [
    "firstNumber = int(input(\"Enter the value for First Number :\"))\n",
    "secoundNumber = int(input(\"Enter the value for second Number :\"))\n",
    "result = firstNumber + secoundNumber\n",
    "print(\"The addition of two numbers\")\n",
    "print(\"The Number1 :\",firstNumber)\n",
    "print(\"The Number2 :\",secoundNumber)\n",
    "print(\"The Answer  :\",result)"
   ]
  },
  {
   "cell_type": "code",
   "execution_count": null,
   "id": "3f106cf1",
   "metadata": {},
   "outputs": [],
   "source": []
  }
 ],
 "metadata": {
  "kernelspec": {
   "display_name": "Python 3 (ipykernel)",
   "language": "python",
   "name": "python3"
  },
  "language_info": {
   "codemirror_mode": {
    "name": "ipython",
    "version": 3
   },
   "file_extension": ".py",
   "mimetype": "text/x-python",
   "name": "python",
   "nbconvert_exporter": "python",
   "pygments_lexer": "ipython3",
   "version": "3.10.9"
  }
 },
 "nbformat": 4,
 "nbformat_minor": 5
}
