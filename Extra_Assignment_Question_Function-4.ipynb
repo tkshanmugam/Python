{
 "cells": [
  {
   "cell_type": "code",
   "execution_count": null,
   "id": "49ef41be",
   "metadata": {},
   "outputs": [],
   "source": [
    "# Create a function, and list out the items in the list"
   ]
  },
  {
   "cell_type": "code",
   "execution_count": 11,
   "id": "944da63c",
   "metadata": {},
   "outputs": [],
   "source": [
    "def listAISubFields():\n",
    "    aiSubFieldList = [\"Machine Learning\",\"Neural Networks\",\"Vision\", \"Robotics\", \"Speech Processing\", \"Natural Language Processing\"]\n",
    "    print(\"Sub-fields in AI are:\")\n",
    "    for aiSubFieldItem in aiSubFieldList:\n",
    "        print(aiSubFieldItem)"
   ]
  },
  {
   "cell_type": "code",
   "execution_count": 12,
   "id": "c3ff3e16",
   "metadata": {},
   "outputs": [
    {
     "name": "stdout",
     "output_type": "stream",
     "text": [
      "Sub-fields in AI are:\n",
      "Machine Learning\n",
      "Neural Networks\n",
      "Vision\n",
      "Robotics\n",
      "Speech Processing\n",
      "Natural Language Processing\n"
     ]
    }
   ],
   "source": [
    "listAISubFields()"
   ]
  },
  {
   "cell_type": "code",
   "execution_count": null,
   "id": "5a8d02a0",
   "metadata": {},
   "outputs": [],
   "source": [
    "# Create a function that checks whether the given number is Odd or Even"
   ]
  },
  {
   "cell_type": "code",
   "execution_count": 13,
   "id": "15d50d52",
   "metadata": {},
   "outputs": [],
   "source": [
    "def oddEven():\n",
    "    num=int(input(\"Enter the number:\"))\n",
    "    if((num%2) == 1):\n",
    "        message = str(num) + \" is a odd Number\"\n",
    "    else:\n",
    "        message = str(num) + \"is a even number\"\n",
    "    return message;     \n"
   ]
  },
  {
   "cell_type": "code",
   "execution_count": 14,
   "id": "894ed343",
   "metadata": {},
   "outputs": [
    {
     "name": "stdout",
     "output_type": "stream",
     "text": [
      "Enter the number:52452\n",
      "52452is a even number\n"
     ]
    }
   ],
   "source": [
    "message = oddEven();\n",
    "print(message);"
   ]
  },
  {
   "cell_type": "code",
   "execution_count": null,
   "id": "9d71dcc4",
   "metadata": {},
   "outputs": [],
   "source": [
    "# Create a function that tells elegibility of marriage for male and female according to their \n",
    "# age limit like 21 for male and 18 for female"
   ]
  },
  {
   "cell_type": "code",
   "execution_count": 15,
   "id": "bc5629e2",
   "metadata": {},
   "outputs": [],
   "source": [
    "def check_eligibility(gender, age):\n",
    "    if gender.lower() == \"male\":\n",
    "        if age >= 21:\n",
    "            return f\"Your gender {gender},Your age {age} ELIGIBLE\"\n",
    "        else:\n",
    "            return f\"Your gender {gender}, Your age {age}, NOT ELIGIBLE\"\n",
    "    elif gender.lower() == \"female\":\n",
    "        if age >= 18:\n",
    "             return f\"Your gender {gender}, Your age {age}, ELIGIBLE\"\n",
    "        else:\n",
    "            return f\"Your gender {gender}, Your age {age}, NOT ELIGIBLE\"\n",
    "    else:\n",
    "        return f\"Invalid input.\""
   ]
  },
  {
   "cell_type": "code",
   "execution_count": 16,
   "id": "e7413301",
   "metadata": {},
   "outputs": [
    {
     "name": "stdout",
     "output_type": "stream",
     "text": [
      "Enter your gender:male\n",
      "Enter your age:20\n"
     ]
    },
    {
     "data": {
      "text/plain": [
       "'Your gender male, Your age 20, NOT ELIGIBLE'"
      ]
     },
     "execution_count": 16,
     "metadata": {},
     "output_type": "execute_result"
    }
   ],
   "source": [
    "gender = input(\"Enter your gender:\")\n",
    "age    = int(input(\"Enter your age:\"))\n",
    "check_eligibility(gender, age)"
   ]
  },
  {
   "cell_type": "code",
   "execution_count": null,
   "id": "fd0da20a",
   "metadata": {},
   "outputs": [],
   "source": [
    "# calculate the percentage of your 10th mark"
   ]
  },
  {
   "cell_type": "code",
   "execution_count": 7,
   "id": "fe98581f",
   "metadata": {},
   "outputs": [],
   "source": [
    "def findTotalAndPercentage():\n",
    "    subject1 = int(input(f\"Enter the subject1 mark:\"))  \n",
    "    subject2 = int(input(f\"Enter the subject2 mark:\")) \n",
    "    subject3 = int(input(f\"Enter the subject3 mark:\"))\n",
    "    subject4 = int(input(f\"Enter the subject4 mark:\"))\n",
    "    subject5 = int(input(f\"Enter the subject5 mark:\"))\n",
    "    subjectTotal = subject1 + subject2 + subject3 + subject4 + subject5\n",
    "    percentage = subjectTotal/5\n",
    "    print(f\"Subject 1:{subject1}\")\n",
    "    print(f\"Subject 2:{subject2}\")\n",
    "    print(f\"Subject 3:{subject3}\")\n",
    "    print(f\"Subject 4:{subject4}\")\n",
    "    print(f\"Subject 5:{subject5}\")\n",
    "    print(f\"Total : {subjectTotal}\")\n",
    "    print(f\"Percentage : {percentage}\")\n",
    "\n"
   ]
  },
  {
   "cell_type": "code",
   "execution_count": 8,
   "id": "0dda1a55",
   "metadata": {},
   "outputs": [
    {
     "name": "stdout",
     "output_type": "stream",
     "text": [
      "Enter the subject1 mark:85\n",
      "Enter the subject2 mark:96\n",
      "Enter the subject3 mark:75\n",
      "Enter the subject4 mark:53\n",
      "Enter the subject5 mark:85\n",
      "Subject 1:85\n",
      "Subject 2:96\n",
      "Subject 3:75\n",
      "Subject 4:53\n",
      "Subject 5:85\n",
      "Total : 394\n",
      "Percentage : 78.8\n"
     ]
    }
   ],
   "source": [
    "findTotalAndPercentage()"
   ]
  },
  {
   "cell_type": "code",
   "execution_count": null,
   "id": "437d9346",
   "metadata": {},
   "outputs": [],
   "source": []
  },
  {
   "cell_type": "code",
   "execution_count": 10,
   "id": "6d511237",
   "metadata": {},
   "outputs": [
    {
     "name": "stdout",
     "output_type": "stream",
     "text": [
      "Enter the height: 32\n",
      "Enter the breath: 34\n",
      "Enter the height1: 2\n",
      "Enter the height2: 4\n",
      "Enter the breath: 4\n",
      "Area of the triangle: 544.0\n",
      "Perimeter of the triangle: 10.0\n"
     ]
    }
   ],
   "source": [
    "def calculate_area(height,breath):\n",
    "    return (height*breath)/2\n",
    "\n",
    "def calculate_perimeter(height1, height2, breath):\n",
    "    return height1 + height2 + breath\n",
    "\n",
    "height = float(input(\"Enter the height: \"))\n",
    "breath = float(input(\"Enter the breath: \"))\n",
    " \n",
    "area = calculate_area(height, breath)\n",
    "height1 = float(input(\"Enter the height1: \"))\n",
    "height2 = float(input(\"Enter the height2: \"))\n",
    "breath = float(input(\"Enter the breath: \"))\n",
    "perimeter = calculate_perimeter(height1, height2, breath)\n",
    "\n",
    "print(f\"Area of the triangle: {area}\")\n",
    "print(f\"Perimeter of the triangle: {perimeter}\")"
   ]
  },
  {
   "cell_type": "code",
   "execution_count": null,
   "id": "3eb8d8b0",
   "metadata": {},
   "outputs": [],
   "source": []
  }
 ],
 "metadata": {
  "kernelspec": {
   "display_name": "Python 3 (ipykernel)",
   "language": "python",
   "name": "python3"
  },
  "language_info": {
   "codemirror_mode": {
    "name": "ipython",
    "version": 3
   },
   "file_extension": ".py",
   "mimetype": "text/x-python",
   "name": "python",
   "nbconvert_exporter": "python",
   "pygments_lexer": "ipython3",
   "version": "3.10.9"
  }
 },
 "nbformat": 4,
 "nbformat_minor": 5
}
