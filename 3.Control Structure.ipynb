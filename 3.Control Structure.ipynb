{
 "cells": [
  {
   "cell_type": "code",
   "execution_count": null,
   "id": "01c0842b",
   "metadata": {},
   "outputs": [],
   "source": [
    "#if"
   ]
  },
  {
   "cell_type": "code",
   "execution_count": null,
   "id": "21ff2837",
   "metadata": {},
   "outputs": [],
   "source": [
    "age = int(input(\"Enter the person age :\"))\n",
    "if(age >=18) :\n",
    "    print(\"This person is Adult.\")"
   ]
  },
  {
   "cell_type": "code",
   "execution_count": 2,
   "id": "4b968ca6",
   "metadata": {},
   "outputs": [
    {
     "name": "stdout",
     "output_type": "stream",
     "text": [
      "Enter the person age :18\n",
      "This person is Adult.\n"
     ]
    }
   ],
   "source": [
    "age = int(input(\"Enter the person age :\"))\n",
    "if(age >=18) :\n",
    "    print(\"This person is Adult.\")\n",
    "else:\n",
    "    print(\"This person is not Adult.\")"
   ]
  },
  {
   "cell_type": "code",
   "execution_count": null,
   "id": "8df87d2e",
   "metadata": {},
   "outputs": [],
   "source": [
    "#for"
   ]
  },
  {
   "cell_type": "code",
   "execution_count": 3,
   "id": "881e2ccb",
   "metadata": {},
   "outputs": [
    {
     "name": "stdout",
     "output_type": "stream",
     "text": [
      "Value of temp is : 1\n",
      "Value of temp is : 2\n",
      "Value of temp is : 3\n",
      "Value of temp is : 4\n",
      "Value of temp is : 5\n",
      "Value of temp is : 6\n",
      "Value of temp is : 7\n",
      "Value of temp is : 8\n",
      "Value of temp is : 9\n"
     ]
    }
   ],
   "source": [
    "for temp in range(1,10):\n",
    "    print(\"Value of temp is :\",temp)"
   ]
  },
  {
   "cell_type": "code",
   "execution_count": 5,
   "id": "93134cf2",
   "metadata": {},
   "outputs": [
    {
     "name": "stdout",
     "output_type": "stream",
     "text": [
      "Enter the person age :18\n",
      "Adult.\n"
     ]
    }
   ],
   "source": [
    "#if - else\n",
    "age = int(input(\"Enter the person age :\"))\n",
    "if(age<18) :\n",
    "    print(\"Children.\")\n",
    "else:\n",
    "    print(\"Adult.\")"
   ]
  },
  {
   "cell_type": "markdown",
   "id": "2323923f",
   "metadata": {},
   "source": [
    "age<18 -- Children\n",
    "age<35 -- Adult\n",
    "age<59 -- citizen\n",
    "age<60 -- Senior citizen"
   ]
  },
  {
   "cell_type": "code",
   "execution_count": 11,
   "id": "1a15d726",
   "metadata": {},
   "outputs": [
    {
     "name": "stdout",
     "output_type": "stream",
     "text": [
      "Enter the age:60\n",
      "Senior Citizen\n"
     ]
    }
   ],
   "source": [
    "age = int(input(\"Enter the age:\"))\n",
    "if(age<18):\n",
    "    print(\"Children\")\n",
    "elif(age<35):\n",
    "   print(\"Adult\")\n",
    "elif(age<59):\n",
    "    print(\"Citizen\")\n",
    "else:\n",
    "    print(\"Senior Citizen\")\n",
    "    "
   ]
  },
  {
   "cell_type": "code",
   "execution_count": null,
   "id": "b4fe982a",
   "metadata": {},
   "outputs": [],
   "source": [
    "# for loop"
   ]
  },
  {
   "cell_type": "code",
   "execution_count": 12,
   "id": "61ce01f1",
   "metadata": {},
   "outputs": [
    {
     "name": "stdout",
     "output_type": "stream",
     "text": [
      "list value is : 10\n",
      "list value is : 25\n",
      "list value is : 35\n",
      "list value is : 45\n",
      "list value is : 55\n",
      "list value is : 65\n",
      "list value is : 75\n",
      "list value is : 85\n",
      "list value is : 95\n"
     ]
    }
   ],
   "source": [
    "lists = [10,25,35,45,55,65,75,85,95]\n",
    "for listsItem in lists:\n",
    "    print(\"list value is :\",listsItem)"
   ]
  },
  {
   "cell_type": "code",
   "execution_count": 14,
   "id": "aeecaabb",
   "metadata": {},
   "outputs": [
    {
     "name": "stdout",
     "output_type": "stream",
     "text": [
      "Children\n",
      "Children\n",
      "Adult\n",
      "Citizen\n",
      "Citizen\n",
      "Citizen\n",
      "Senior Citizen\n",
      "Senior Citizen\n"
     ]
    }
   ],
   "source": [
    "ageList = [10,15,25,35,45,55,60,65]\n",
    "for age in ageList:\n",
    "    if(age<18):\n",
    "      print(\"Children\")\n",
    "    elif(age<35):\n",
    "       print(\"Adult\")\n",
    "    elif(age<59):\n",
    "       print(\"Citizen\")\n",
    "    else:\n",
    "       print(\"Senior Citizen\")\n",
    "    "
   ]
  },
  {
   "cell_type": "code",
   "execution_count": 18,
   "id": "d350da0d",
   "metadata": {},
   "outputs": [
    {
     "name": "stdout",
     "output_type": "stream",
     "text": [
      "Enter the number :4\n",
      "Given number  4  is EVEN number\n"
     ]
    }
   ],
   "source": [
    "number = int(input(\"Enter the number :\"))\n",
    "if((number%2)==0):\n",
    "    print(\"Given number \",number,\" is EVEN number\")\n",
    "else:\n",
    "  print(\"Given number \",number,\" is ODD number\")"
   ]
  },
  {
   "cell_type": "code",
   "execution_count": 19,
   "id": "f0af54bc",
   "metadata": {},
   "outputs": [
    {
     "data": {
      "text/plain": [
       "range(0, 10)"
      ]
     },
     "execution_count": 19,
     "metadata": {},
     "output_type": "execute_result"
    }
   ],
   "source": [
    "range(0,10)"
   ]
  },
  {
   "cell_type": "code",
   "execution_count": 20,
   "id": "0caef0bf",
   "metadata": {},
   "outputs": [
    {
     "name": "stdout",
     "output_type": "stream",
     "text": [
      "range(0, 10)\n"
     ]
    }
   ],
   "source": [
    "print(range(0,10))\n"
   ]
  },
  {
   "cell_type": "code",
   "execution_count": null,
   "id": "dfdc4aaa",
   "metadata": {},
   "outputs": [],
   "source": [
    "#for loop with range"
   ]
  },
  {
   "cell_type": "code",
   "execution_count": 22,
   "id": "92a14a29",
   "metadata": {},
   "outputs": [
    {
     "name": "stdout",
     "output_type": "stream",
     "text": [
      "The range item is : 0\n",
      "The range item is : 1\n",
      "The range item is : 2\n",
      "The range item is : 3\n",
      "The range item is : 4\n",
      "The range item is : 5\n",
      "The range item is : 6\n",
      "The range item is : 7\n",
      "The range item is : 8\n",
      "The range item is : 9\n"
     ]
    }
   ],
   "source": [
    "for rangeItem in range(0,10):\n",
    "    print(\"The range item is :\",rangeItem)"
   ]
  },
  {
   "cell_type": "code",
   "execution_count": null,
   "id": "d9aa78cc",
   "metadata": {},
   "outputs": [],
   "source": [
    "#for loop with range and step"
   ]
  },
  {
   "cell_type": "code",
   "execution_count": 23,
   "id": "87aa6fe1",
   "metadata": {},
   "outputs": [
    {
     "name": "stdout",
     "output_type": "stream",
     "text": [
      "The range item is : 0\n",
      "The range item is : 10\n",
      "The range item is : 20\n",
      "The range item is : 30\n",
      "The range item is : 40\n",
      "The range item is : 50\n",
      "The range item is : 60\n",
      "The range item is : 70\n",
      "The range item is : 80\n",
      "The range item is : 90\n"
     ]
    }
   ],
   "source": [
    "for rangeItem in range(0,100,10):\n",
    "    print(\"The range item is :\",rangeItem)"
   ]
  },
  {
   "cell_type": "code",
   "execution_count": null,
   "id": "2011ab60",
   "metadata": {},
   "outputs": [],
   "source": []
  }
 ],
 "metadata": {
  "kernelspec": {
   "display_name": "Python 3 (ipykernel)",
   "language": "python",
   "name": "python3"
  },
  "language_info": {
   "codemirror_mode": {
    "name": "ipython",
    "version": 3
   },
   "file_extension": ".py",
   "mimetype": "text/x-python",
   "name": "python",
   "nbconvert_exporter": "python",
   "pygments_lexer": "ipython3",
   "version": "3.10.9"
  }
 },
 "nbformat": 4,
 "nbformat_minor": 5
}
