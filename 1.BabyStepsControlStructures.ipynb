{
 "cells": [
  {
   "cell_type": "code",
   "execution_count": null,
   "id": "8628b2f3",
   "metadata": {},
   "outputs": [],
   "source": [
    "# print statement"
   ]
  },
  {
   "cell_type": "code",
   "execution_count": 1,
   "id": "10fc8765",
   "metadata": {},
   "outputs": [
    {
     "name": "stdout",
     "output_type": "stream",
     "text": [
      "Welcome to Assignment-1\n"
     ]
    }
   ],
   "source": [
    "print(\"Welcome to Assignment-1\")"
   ]
  },
  {
   "cell_type": "code",
   "execution_count": null,
   "id": "763daeac",
   "metadata": {},
   "outputs": [],
   "source": [
    "# Addition of number"
   ]
  },
  {
   "cell_type": "code",
   "execution_count": 2,
   "id": "ca3d92a1",
   "metadata": {},
   "outputs": [
    {
     "name": "stdout",
     "output_type": "stream",
     "text": [
      "Enter number 1:10\n",
      "Enter number 2:10\n",
      "Number 1 : 10\n",
      "Number 2 : 10\n",
      "Add :  20\n"
     ]
    }
   ],
   "source": [
    "num1 = int(input(\"Enter number 1:\"))\n",
    "num2 = int(input(\"Enter number 2:\"))\n",
    "result = num1 + num2\n",
    "print(\"Number 1 :\",num1)\n",
    "print(\"Number 2 :\",num2)\n",
    "print(\"Add : \",result)"
   ]
  },
  {
   "cell_type": "code",
   "execution_count": null,
   "id": "1f491210",
   "metadata": {},
   "outputs": [],
   "source": [
    "#body mass index"
   ]
  },
  {
   "cell_type": "code",
   "execution_count": 2,
   "id": "ed3b80f3",
   "metadata": {},
   "outputs": [
    {
     "name": "stdout",
     "output_type": "stream",
     "text": [
      "Enter your weight in kilograms: 104\n",
      "Enter your height in meters: 172\n",
      "You are underweight.\n"
     ]
    }
   ],
   "source": [
    "# Input weight in kilograms and height in meters\n",
    "weight_kg = float(input(\"Enter your weight in kilograms: \"))\n",
    "height_m = float(input(\"Enter your height in meters: \"))\n",
    "bmi = weight_kg / (height_m ** 2)\n",
    "    \n",
    "if bmi < 18.5:\n",
    "    print(\"You are underweight.\")\n",
    "elif 18.5 <= bmi < 24.9:\n",
    "    print(\"You have a normal weight.\")\n",
    "elif 25 <= bmi < 29.9:\n",
    "    print(\"You are overweight.\")\n",
    "else:\n",
    "    print(\"You are obese.\")"
   ]
  },
  {
   "cell_type": "code",
   "execution_count": null,
   "id": "90d3c33d",
   "metadata": {},
   "outputs": [],
   "source": []
  }
 ],
 "metadata": {
  "kernelspec": {
   "display_name": "Python 3 (ipykernel)",
   "language": "python",
   "name": "python3"
  },
  "language_info": {
   "codemirror_mode": {
    "name": "ipython",
    "version": 3
   },
   "file_extension": ".py",
   "mimetype": "text/x-python",
   "name": "python",
   "nbconvert_exporter": "python",
   "pygments_lexer": "ipython3",
   "version": "3.10.9"
  }
 },
 "nbformat": 4,
 "nbformat_minor": 5
}
