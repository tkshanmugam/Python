{
 "cells": [
  {
   "cell_type": "code",
   "execution_count": null,
   "id": "1a06449b",
   "metadata": {},
   "outputs": [],
   "source": [
    "# call functions from seperate class file"
   ]
  },
  {
   "cell_type": "code",
   "execution_count": 3,
   "id": "58466d0d",
   "metadata": {},
   "outputs": [],
   "source": [
    "from multiplefunctions import multipleFuntions"
   ]
  },
  {
   "cell_type": "code",
   "execution_count": 5,
   "id": "99958c70",
   "metadata": {},
   "outputs": [
    {
     "name": "stdout",
     "output_type": "stream",
     "text": [
      "Sub-fields in AI are:\n",
      "Machine Learning\n",
      "Neural Networks\n",
      "Vision\n",
      "Robotics\n",
      "Speech Processing\n",
      "Natural Language Processing\n"
     ]
    }
   ],
   "source": [
    "multipleFuntions.listAISubFields()"
   ]
  },
  {
   "cell_type": "code",
   "execution_count": null,
   "id": "e9fd573f",
   "metadata": {},
   "outputs": [],
   "source": [
    "# call function findOddEven"
   ]
  },
  {
   "cell_type": "code",
   "execution_count": 6,
   "id": "41f7bf33",
   "metadata": {},
   "outputs": [
    {
     "name": "stdout",
     "output_type": "stream",
     "text": [
      "Enter the number:45\n"
     ]
    },
    {
     "data": {
      "text/plain": [
       "'45 is a odd Number'"
      ]
     },
     "execution_count": 6,
     "metadata": {},
     "output_type": "execute_result"
    }
   ],
   "source": [
    "multipleFuntions.findOddEven()"
   ]
  },
  {
   "cell_type": "code",
   "execution_count": null,
   "id": "b4bd1be3",
   "metadata": {},
   "outputs": [],
   "source": [
    "# call function check_eligibility"
   ]
  },
  {
   "cell_type": "code",
   "execution_count": 8,
   "id": "d78346da",
   "metadata": {},
   "outputs": [
    {
     "data": {
      "text/plain": [
       "'Your gender male, Your age 19, NOT ELIGIBLE'"
      ]
     },
     "execution_count": 8,
     "metadata": {},
     "output_type": "execute_result"
    }
   ],
   "source": [
    "multipleFuntions.check_eligibility('male',19)"
   ]
  },
  {
   "cell_type": "code",
   "execution_count": null,
   "id": "c076cb05",
   "metadata": {},
   "outputs": [],
   "source": [
    "# call function findTotalAndPercentage"
   ]
  },
  {
   "cell_type": "code",
   "execution_count": 9,
   "id": "998549b4",
   "metadata": {},
   "outputs": [
    {
     "name": "stdout",
     "output_type": "stream",
     "text": [
      "Enter the subject1 mark:45\n",
      "Enter the subject2 mark:96\n",
      "Enter the subject3 mark:63\n",
      "Enter the subject4 mark:52\n",
      "Enter the subject5 mark:78\n",
      "Subject 1:45\n",
      "Subject 2:96\n",
      "Subject 3:63\n",
      "Subject 4:52\n",
      "Subject 5:78\n",
      "Total : 334\n",
      "Percentage : 66.8\n"
     ]
    }
   ],
   "source": [
    "multipleFuntions.findTotalAndPercentage()"
   ]
  },
  {
   "cell_type": "code",
   "execution_count": null,
   "id": "30697e79",
   "metadata": {},
   "outputs": [],
   "source": [
    "# print area and perimeter of triangle using class and functions"
   ]
  },
  {
   "cell_type": "code",
   "execution_count": 10,
   "id": "26356e72",
   "metadata": {},
   "outputs": [
    {
     "name": "stdout",
     "output_type": "stream",
     "text": [
      "Enter the height: 32\n",
      "Enter the breath: 34\n",
      "Enter the height1: 4\n",
      "Enter the height2: 2\n",
      "Enter the breath: 2\n",
      "Area of the triangle: 544.0\n",
      "Perimeter of the triangle: 8.0\n"
     ]
    }
   ],
   "source": [
    "height = float(input(\"Enter the height: \"))\n",
    "breath = float(input(\"Enter the breath: \"))\n",
    " \n",
    "area = multipleFuntions.calculate_area(height, breath)\n",
    "height1 = float(input(\"Enter the height1: \"))\n",
    "height2 = float(input(\"Enter the height2: \"))\n",
    "breath = float(input(\"Enter the breath: \"))\n",
    "perimeter = multipleFuntions.calculate_perimeter(height1, height2, breath)\n",
    "\n",
    "print(f\"Area of the triangle: {area}\")\n",
    "print(f\"Perimeter of the triangle: {perimeter}\")"
   ]
  },
  {
   "cell_type": "code",
   "execution_count": null,
   "id": "fcf3e59d",
   "metadata": {},
   "outputs": [],
   "source": []
  }
 ],
 "metadata": {
  "kernelspec": {
   "display_name": "Python 3 (ipykernel)",
   "language": "python",
   "name": "python3"
  },
  "language_info": {
   "codemirror_mode": {
    "name": "ipython",
    "version": 3
   },
   "file_extension": ".py",
   "mimetype": "text/x-python",
   "name": "python",
   "nbconvert_exporter": "python",
   "pygments_lexer": "ipython3",
   "version": "3.10.9"
  }
 },
 "nbformat": 4,
 "nbformat_minor": 5
}
