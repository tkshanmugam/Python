{
 "cells": [
  {
   "cell_type": "code",
   "execution_count": null,
   "id": "73ce9c5a",
   "metadata": {},
   "outputs": [],
   "source": [
    "# print 'CORRECT' if i == 10"
   ]
  },
  {
   "cell_type": "code",
   "execution_count": null,
   "id": "bfd15c40",
   "metadata": {},
   "outputs": [],
   "source": [
    "num = int(input(\"Enter the number\"))\n",
    "if num == 10:\n",
    "    print(f\"value: {num}\")\n",
    "    print(\"correct\")"
   ]
  },
  {
   "cell_type": "code",
   "execution_count": null,
   "id": "7dd58ddc",
   "metadata": {},
   "outputs": [],
   "source": [
    "# Check the password, using if and else"
   ]
  },
  {
   "cell_type": "code",
   "execution_count": 2,
   "id": "e3be27f0",
   "metadata": {},
   "outputs": [
    {
     "name": "stdout",
     "output_type": "stream",
     "text": [
      "Enter the passwordHOPE@123\n",
      "Your password is correct\n"
     ]
    }
   ],
   "source": [
    "password = input(\"Enter the password\")\n",
    "if password == \"HOPE@123\":\n",
    "    print(\"Your password is correct\")\n",
    "else:\n",
    "   print(\"Your password is incorrect\")"
   ]
  },
  {
   "cell_type": "code",
   "execution_count": null,
   "id": "c0b32cb2",
   "metadata": {},
   "outputs": [],
   "source": [
    "# Catagory the people by their age like children, adult, citizen, senior citizen..."
   ]
  },
  {
   "cell_type": "code",
   "execution_count": 4,
   "id": "cdf4a141",
   "metadata": {},
   "outputs": [
    {
     "name": "stdout",
     "output_type": "stream",
     "text": [
      "Enter your age:17\n",
      "Children\n"
     ]
    }
   ],
   "source": [
    "age = int(input(\"Enter your age:\"))\n",
    "if(age<18):\n",
    "    print(\"Children\")\n",
    "elif(age<35):\n",
    "   print(\"Adult\")\n",
    "elif(age<59):\n",
    "    print(\"Citizen\")\n",
    "else:\n",
    "    print(\"Senior Citizen\")"
   ]
  },
  {
   "cell_type": "code",
   "execution_count": null,
   "id": "065ad7ff",
   "metadata": {},
   "outputs": [],
   "source": [
    "# Find whether given number is positive or negative"
   ]
  },
  {
   "cell_type": "code",
   "execution_count": 9,
   "id": "67601c16",
   "metadata": {},
   "outputs": [
    {
     "name": "stdout",
     "output_type": "stream",
     "text": [
      "Enter the any number:5\n",
      "Given number 5 is a positive\n"
     ]
    }
   ],
   "source": [
    "num = int(input(\"Enter the any number:\"))\n",
    "if num > 0:\n",
    "    print(f\"Given number {num} is a positive\")\n",
    "else :\n",
    "   print(f\"Given number {num} is a negative\") "
   ]
  },
  {
   "cell_type": "code",
   "execution_count": null,
   "id": "83840942",
   "metadata": {},
   "outputs": [],
   "source": [
    "# Check whether the given number is divisible by 5"
   ]
  },
  {
   "cell_type": "code",
   "execution_count": 12,
   "id": "21f5f45f",
   "metadata": {},
   "outputs": [
    {
     "name": "stdout",
     "output_type": "stream",
     "text": [
      "Enter the any number:96\n",
      "96 is not divisble by 5\n"
     ]
    }
   ],
   "source": [
    "num = int(input(\"Enter the any number:\"))\n",
    "if num%5 == 0:\n",
    "    print(f\"{num} is divisble by 5\")\n",
    "else:\n",
    "    print(f\"{num} is not divisble by 5\")\n"
   ]
  },
  {
   "cell_type": "code",
   "execution_count": null,
   "id": "50934295",
   "metadata": {},
   "outputs": [],
   "source": []
  }
 ],
 "metadata": {
  "kernelspec": {
   "display_name": "Python 3 (ipykernel)",
   "language": "python",
   "name": "python3"
  },
  "language_info": {
   "codemirror_mode": {
    "name": "ipython",
    "version": 3
   },
   "file_extension": ".py",
   "mimetype": "text/x-python",
   "name": "python",
   "nbconvert_exporter": "python",
   "pygments_lexer": "ipython3",
   "version": "3.10.9"
  }
 },
 "nbformat": 4,
 "nbformat_minor": 5
}
