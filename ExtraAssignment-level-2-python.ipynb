{
 "cells": [
  {
   "cell_type": "code",
   "execution_count": null,
   "id": "9f02174d",
   "metadata": {},
   "outputs": [],
   "source": [
    "# Print 0 to 20 using range"
   ]
  },
  {
   "cell_type": "code",
   "execution_count": 4,
   "id": "abe0b176",
   "metadata": {},
   "outputs": [
    {
     "name": "stdout",
     "output_type": "stream",
     "text": [
      "0\n",
      "1\n",
      "2\n",
      "3\n",
      "4\n",
      "5\n",
      "6\n",
      "7\n",
      "8\n",
      "9\n",
      "10\n",
      "11\n",
      "12\n",
      "13\n",
      "14\n",
      "15\n",
      "16\n",
      "17\n",
      "18\n",
      "19\n"
     ]
    }
   ],
   "source": [
    "for item in range(0,20):\n",
    "   print(item)"
   ]
  },
  {
   "cell_type": "code",
   "execution_count": null,
   "id": "54800e76",
   "metadata": {},
   "outputs": [],
   "source": [
    "#print range 10 to 20"
   ]
  },
  {
   "cell_type": "code",
   "execution_count": 6,
   "id": "c6e47701",
   "metadata": {},
   "outputs": [
    {
     "name": "stdout",
     "output_type": "stream",
     "text": [
      "10\n",
      "11\n",
      "12\n",
      "13\n",
      "14\n",
      "15\n",
      "16\n",
      "17\n",
      "18\n",
      "19\n"
     ]
    }
   ],
   "source": [
    "for num in range(10, 20):\n",
    "    print(num)"
   ]
  },
  {
   "cell_type": "code",
   "execution_count": null,
   "id": "18213566",
   "metadata": {},
   "outputs": [],
   "source": [
    "# Print number of items in the list by using 'len'"
   ]
  },
  {
   "cell_type": "code",
   "execution_count": 2,
   "id": "26600ef0",
   "metadata": {},
   "outputs": [
    {
     "name": "stdout",
     "output_type": "stream",
     "text": [
      "Length of the list: 7\n"
     ]
    }
   ],
   "source": [
    "numList = [10, 20, 14, 55, 43, 87, 76]\n",
    "print(\"Length of the list:\", len(numList))"
   ]
  },
  {
   "cell_type": "code",
   "execution_count": null,
   "id": "99f99edd",
   "metadata": {},
   "outputs": [],
   "source": [
    "#iterate through each character in the word"
   ]
  },
  {
   "cell_type": "code",
   "execution_count": 3,
   "id": "05455d05",
   "metadata": {},
   "outputs": [
    {
     "name": "stdout",
     "output_type": "stream",
     "text": [
      "Enter a word: Artificial Intelligence\n",
      "A\n",
      "r\n",
      "t\n",
      "i\n",
      "f\n",
      "i\n",
      "c\n",
      "i\n",
      "a\n",
      "l\n",
      " \n",
      "I\n",
      "n\n",
      "t\n",
      "e\n",
      "l\n",
      "l\n",
      "i\n",
      "g\n",
      "e\n",
      "n\n",
      "c\n",
      "e\n"
     ]
    }
   ],
   "source": [
    "word = input(\"Enter a word: \")\n",
    "# Using a for loop to iterate through each character in the word\n",
    "for character in word:\n",
    "    print(character)"
   ]
  },
  {
   "cell_type": "code",
   "execution_count": null,
   "id": "7bd28380",
   "metadata": {},
   "outputs": [],
   "source": [
    "#personal Details"
   ]
  },
  {
   "cell_type": "code",
   "execution_count": 4,
   "id": "2adcbc3e",
   "metadata": {},
   "outputs": [
    {
     "name": "stdout",
     "output_type": "stream",
     "text": [
      "Enter your Name:thilak\n",
      "Enter your Age:40\n",
      "Enter your Profession:Software Eng\n",
      "Your Name:thilak\n",
      "Your Age:40\n",
      "Your Professional:Software Eng\n"
     ]
    }
   ],
   "source": [
    "name =input(\"Enter your Name:\")\n",
    "age  = input(\"Enter your Age:\")\n",
    "prof = input (\"Enter your Profession:\")\n",
    "print(f\"Your Name:{name}\")\n",
    "print(f\"Your Age:{age}\")\n",
    "print(f\"Your Professional:{prof}\")"
   ]
  },
  {
   "cell_type": "code",
   "execution_count": null,
   "id": "e04f7ee8",
   "metadata": {},
   "outputs": [],
   "source": [
    "# Print yhis mixed datatype using Tuples"
   ]
  },
  {
   "cell_type": "code",
   "execution_count": 5,
   "id": "bedb5ab6",
   "metadata": {},
   "outputs": [
    {
     "name": "stdout",
     "output_type": "stream",
     "text": [
      "(1, 'Welcome', 2, 'Hope')\n"
     ]
    }
   ],
   "source": [
    "tuple1 = (1, 'Welcome', 2, 'Hope')\n",
    "print(tuple1)"
   ]
  },
  {
   "cell_type": "code",
   "execution_count": null,
   "id": "c78ca625",
   "metadata": {},
   "outputs": [],
   "source": [
    "# Creating a Tuple with nested tuples"
   ]
  },
  {
   "cell_type": "code",
   "execution_count": null,
   "id": "0e85efad",
   "metadata": {},
   "outputs": [],
   "source": [
    "Tuple1 = (0, 1, 2, 3)\n",
    "Tuple2 = ('python', 'Hope')\n",
    "Tuple3 = (Tuple1, Tuple2)\n",
    "print(\"\\nTuple with nested tuples: \")\n",
    "print(Tuple3)\n"
   ]
  },
  {
   "cell_type": "code",
   "execution_count": null,
   "id": "ebc30267",
   "metadata": {},
   "outputs": [],
   "source": [
    "# print Odd Numbers in the list"
   ]
  },
  {
   "cell_type": "code",
   "execution_count": 1,
   "id": "4feca192",
   "metadata": {},
   "outputs": [
    {
     "name": "stdout",
     "output_type": "stream",
     "text": [
      "19 is odd number\n",
      "25 is odd number\n",
      "1 is odd number\n"
     ]
    }
   ],
   "source": [
    "numList = (20,10,16,19,25,1,276,188);\n",
    "for numListItem in numList:\n",
    "    if numListItem%2 != 0:\n",
    "        print(f\"{numListItem} is odd number\")"
   ]
  },
  {
   "cell_type": "code",
   "execution_count": null,
   "id": "2ae7f12f",
   "metadata": {},
   "outputs": [],
   "source": [
    "# print Even Numbers in the list"
   ]
  },
  {
   "cell_type": "code",
   "execution_count": 2,
   "id": "4715160e",
   "metadata": {},
   "outputs": [
    {
     "name": "stdout",
     "output_type": "stream",
     "text": [
      "20 is Even number\n",
      "10 is Even number\n",
      "16 is Even number\n",
      "276 is Even number\n",
      "188 is Even number\n"
     ]
    }
   ],
   "source": [
    "for numListItem in numList:\n",
    "    if numListItem%2 == 0:\n",
    "        print(f\"{numListItem} is Even number\")"
   ]
  },
  {
   "cell_type": "code",
   "execution_count": 3,
   "id": "e3f96dac",
   "metadata": {},
   "outputs": [
    {
     "name": "stdout",
     "output_type": "stream",
     "text": [
      "\n",
      "Tuple with a loop\n",
      "('Geeks',)\n",
      "(('Geeks',),)\n",
      "((('Geeks',),),)\n",
      "(((('Geeks',),),),)\n",
      "((((('Geeks',),),),),)\n"
     ]
    }
   ],
   "source": [
    "Tuple1 = ('Geeks')\n",
    "n = 5\n",
    "print(\"\\nTuple with a loop\")\n",
    "for i in range(int(n)):\n",
    "    Tuple1 = (Tuple1,)\n",
    "    print(Tuple1)"
   ]
  },
  {
   "cell_type": "code",
   "execution_count": null,
   "id": "62fa1a15",
   "metadata": {},
   "outputs": [],
   "source": []
  }
 ],
 "metadata": {
  "kernelspec": {
   "display_name": "Python 3 (ipykernel)",
   "language": "python",
   "name": "python3"
  },
  "language_info": {
   "codemirror_mode": {
    "name": "ipython",
    "version": 3
   },
   "file_extension": ".py",
   "mimetype": "text/x-python",
   "name": "python",
   "nbconvert_exporter": "python",
   "pygments_lexer": "ipython3",
   "version": "3.10.9"
  }
 },
 "nbformat": 4,
 "nbformat_minor": 5
}
