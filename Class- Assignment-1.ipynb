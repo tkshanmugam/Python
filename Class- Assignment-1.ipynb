{
 "cells": [
  {
   "cell_type": "code",
   "execution_count": null,
   "id": "2abf8730",
   "metadata": {},
   "outputs": [],
   "source": [
    "# Create a class and function, and list out the items in the list"
   ]
  },
  {
   "cell_type": "code",
   "execution_count": 1,
   "id": "49654251",
   "metadata": {},
   "outputs": [],
   "source": [
    "class SubfieldsInAI:\n",
    "    def listAISubFields():\n",
    "        aiSubFieldList = [\"Machine Learning\",\"Neural Networks\",\"Vision\", \"Robotics\", \"Speech Processing\", \"Natural Language Processing\"]\n",
    "        print(\"Sub-fields in AI are:\")\n",
    "        for aiSubFieldItem in aiSubFieldList:\n",
    "            print(aiSubFieldItem)"
   ]
  },
  {
   "cell_type": "code",
   "execution_count": 2,
   "id": "df96f674",
   "metadata": {},
   "outputs": [
    {
     "name": "stdout",
     "output_type": "stream",
     "text": [
      "Sub-fields in AI are:\n",
      "Machine Learning\n",
      "Neural Networks\n",
      "Vision\n",
      "Robotics\n",
      "Speech Processing\n",
      "Natural Language Processing\n"
     ]
    }
   ],
   "source": [
    "SubfieldsInAI.listAISubFields()"
   ]
  },
  {
   "cell_type": "code",
   "execution_count": null,
   "id": "2dd667b2",
   "metadata": {},
   "outputs": [],
   "source": [
    "# Create a function that checks whether the given number is Odd or Even"
   ]
  },
  {
   "cell_type": "code",
   "execution_count": 12,
   "id": "99176476",
   "metadata": {},
   "outputs": [],
   "source": [
    "class OddEven:\n",
    "    def findOddEven():\n",
    "        num=int(input(\"Enter the number:\"))\n",
    "        if((num%2) == 1):\n",
    "            message = str(num) + \" is a odd Number\"\n",
    "        else:\n",
    "            message = str(num) + \" is a even number\"\n",
    "        return message;"
   ]
  },
  {
   "cell_type": "code",
   "execution_count": 13,
   "id": "cc57058c",
   "metadata": {},
   "outputs": [
    {
     "name": "stdout",
     "output_type": "stream",
     "text": [
      "Enter the number:89\n"
     ]
    },
    {
     "data": {
      "text/plain": [
       "'89 is a odd Number'"
      ]
     },
     "execution_count": 13,
     "metadata": {},
     "output_type": "execute_result"
    }
   ],
   "source": [
    "OddEven.findOddEven()"
   ]
  },
  {
   "cell_type": "code",
   "execution_count": null,
   "id": "e28da639",
   "metadata": {},
   "outputs": [],
   "source": [
    "# Create a function that tells elegibility of marriage for male and female according \n",
    "#to their age limit like 21 for male and 18 for female"
   ]
  },
  {
   "cell_type": "code",
   "execution_count": 14,
   "id": "85072af3",
   "metadata": {},
   "outputs": [],
   "source": [
    "class ElegiblityForMarriage:\n",
    "    def check_eligibility(gender, age):\n",
    "        if gender.lower() == \"male\":\n",
    "            if age >= 21:\n",
    "                return f\"Your gender {gender},Your age {age} ELIGIBLE\"\n",
    "            else:\n",
    "                return f\"Your gender {gender}, Your age {age}, NOT ELIGIBLE\"\n",
    "        elif gender.lower() == \"female\":\n",
    "            if age >= 18:\n",
    "                 return f\"Your gender {gender}, Your age {age}, ELIGIBLE\"\n",
    "            else:\n",
    "                return f\"Your gender {gender}, Your age {age}, NOT ELIGIBLE\"\n",
    "        else:\n",
    "            return f\"Invalid input.\"\n"
   ]
  },
  {
   "cell_type": "code",
   "execution_count": 15,
   "id": "89791972",
   "metadata": {},
   "outputs": [
    {
     "data": {
      "text/plain": [
       "'Your gender male,Your age 25 ELIGIBLE'"
      ]
     },
     "execution_count": 15,
     "metadata": {},
     "output_type": "execute_result"
    }
   ],
   "source": [
    "ElegiblityForMarriage.check_eligibility('male', 25)"
   ]
  },
  {
   "cell_type": "code",
   "execution_count": null,
   "id": "214ecfbd",
   "metadata": {},
   "outputs": [],
   "source": [
    "# calculate the percentage of your 10th mark"
   ]
  },
  {
   "cell_type": "code",
   "execution_count": 16,
   "id": "5b05ecd9",
   "metadata": {},
   "outputs": [],
   "source": [
    "class FindPercent:\n",
    "    def findTotalAndPercentage():\n",
    "        subject1 = int(input(f\"Enter the subject1 mark:\"))  \n",
    "        subject2 = int(input(f\"Enter the subject2 mark:\")) \n",
    "        subject3 = int(input(f\"Enter the subject3 mark:\"))\n",
    "        subject4 = int(input(f\"Enter the subject4 mark:\"))\n",
    "        subject5 = int(input(f\"Enter the subject5 mark:\"))\n",
    "        subjectTotal = subject1 + subject2 + subject3 + subject4 + subject5\n",
    "        percentage = subjectTotal/5\n",
    "        print(f\"Subject 1:{subject1}\")\n",
    "        print(f\"Subject 2:{subject2}\")\n",
    "        print(f\"Subject 3:{subject3}\")\n",
    "        print(f\"Subject 4:{subject4}\")\n",
    "        print(f\"Subject 5:{subject5}\")\n",
    "        print(f\"Total : {subjectTotal}\")\n",
    "        print(f\"Percentage : {percentage}\")"
   ]
  },
  {
   "cell_type": "code",
   "execution_count": 17,
   "id": "3c79e1d6",
   "metadata": {},
   "outputs": [
    {
     "name": "stdout",
     "output_type": "stream",
     "text": [
      "Enter the subject1 mark:78\n",
      "Enter the subject2 mark:96\n",
      "Enter the subject3 mark:85\n",
      "Enter the subject4 mark:96\n",
      "Enter the subject5 mark:85\n",
      "Subject 1:78\n",
      "Subject 2:96\n",
      "Subject 3:85\n",
      "Subject 4:96\n",
      "Subject 5:85\n",
      "Total : 440\n",
      "Percentage : 88.0\n"
     ]
    }
   ],
   "source": [
    "FindPercent.findTotalAndPercentage()"
   ]
  },
  {
   "cell_type": "code",
   "execution_count": null,
   "id": "284d0b92",
   "metadata": {},
   "outputs": [],
   "source": [
    "# print area and perimeter of triangle using class and functions"
   ]
  },
  {
   "cell_type": "code",
   "execution_count": 18,
   "id": "b7886769",
   "metadata": {},
   "outputs": [],
   "source": [
    "class triangle:\n",
    "    def calculate_area(height,breath):\n",
    "        return (height*breath)/2\n",
    "\n",
    "    def calculate_perimeter(height1, height2, breath):\n",
    "        return height1 + height2 + breath"
   ]
  },
  {
   "cell_type": "code",
   "execution_count": 19,
   "id": "77233a78",
   "metadata": {},
   "outputs": [
    {
     "name": "stdout",
     "output_type": "stream",
     "text": [
      "Enter the height: 32\n",
      "Enter the breath: 34\n",
      "Enter the height1: 2\n",
      "Enter the height2: 4\n",
      "Enter the breath: 4\n",
      "Area of the triangle: 544.0\n",
      "Perimeter of the triangle: 10.0\n"
     ]
    }
   ],
   "source": [
    "height = float(input(\"Enter the height: \"))\n",
    "breath = float(input(\"Enter the breath: \"))\n",
    " \n",
    "area = triangle.calculate_area(height, breath)\n",
    "height1 = float(input(\"Enter the height1: \"))\n",
    "height2 = float(input(\"Enter the height2: \"))\n",
    "breath = float(input(\"Enter the breath: \"))\n",
    "perimeter = triangle.calculate_perimeter(height1, height2, breath)\n",
    "\n",
    "print(f\"Area of the triangle: {area}\")\n",
    "print(f\"Perimeter of the triangle: {perimeter}\")"
   ]
  },
  {
   "cell_type": "code",
   "execution_count": null,
   "id": "ba6e9452",
   "metadata": {},
   "outputs": [],
   "source": []
  }
 ],
 "metadata": {
  "kernelspec": {
   "display_name": "Python 3 (ipykernel)",
   "language": "python",
   "name": "python3"
  },
  "language_info": {
   "codemirror_mode": {
    "name": "ipython",
    "version": 3
   },
   "file_extension": ".py",
   "mimetype": "text/x-python",
   "name": "python",
   "nbconvert_exporter": "python",
   "pygments_lexer": "ipython3",
   "version": "3.10.9"
  }
 },
 "nbformat": 4,
 "nbformat_minor": 5
}
